{
 "cells": [
  {
   "cell_type": "markdown",
   "metadata": {},
   "source": [
    "## 1. Matrix times Vector \n",
    "#### Write a Python function that takes the dot product of a matrix and a vector. return -1 if the matrix could not be dotted with the vector\n",
    "#### Example:\n",
    "        input: a = [[1,2],[2,4]], b = [1,2]\n",
    "        output:[5, 10] \n",
    "        reasoning: 1*1 + 2*2 = 5;\n",
    "                   1*2+ 2*4 = 10"
   ]
  },
  {
   "cell_type": "code",
   "execution_count": 3,
   "metadata": {},
   "outputs": [
    {
     "name": "stdout",
     "output_type": "stream",
     "text": [
      "[5, 10]\n"
     ]
    }
   ],
   "source": [
    "def matrix_dot_vector(a,b):\n",
    "  if len(a[0]) != len(b):\n",
    "    return -1\n",
    "  \n",
    "  col = []\n",
    "  for r in range(len(a)):\n",
    "    add = 0\n",
    "   \n",
    "    for c in range(len(a[r])):\n",
    "      add = add + a[r][c]*b[c]\n",
    "    col.append(add)\n",
    "  return col\n",
    "  \n",
    "a = [[1,2],[2,4]]\n",
    "b = [1,2]\n",
    "print(matrix_dot_vector(a,b))"
   ]
  },
  {
   "cell_type": "markdown",
   "metadata": {},
   "source": [
    "## 2. Transpose of a Matrix\n",
    "#### Write a Python function that computes the transpose of a given matrix.\n",
    "\n",
    "#### Example:\n",
    "        input: a = [[1,2,3],[4,5,6]]\n",
    "        output: [[1,4],[2,5],[3,6]]\n",
    "        reasoning: The transpose of a matrix is obtained by flipping rows and columns.\n"
   ]
  },
  {
   "cell_type": "code",
   "execution_count": 4,
   "metadata": {},
   "outputs": [
    {
     "name": "stdout",
     "output_type": "stream",
     "text": [
      "[[1, 4], [2, 5], [3, 6]]\n"
     ]
    }
   ],
   "source": [
    "def transpose_matrix(a: list[list[int|float]]) -> list[list[int|float]]:\n",
    "\tb = []\n",
    "\tfor r in range(len(a[0])):\n",
    "\t\tlst =[]\n",
    "\t\tfor c in range(len(a)):\n",
    "\t\t\tlst.append(a[c][r])\n",
    "\t\tb.append(lst)\n",
    "\t\t\t\t\t\n",
    "\treturn b\n",
    "\n",
    "a = [[1,2,3],[4,5,6]]\n",
    "\n",
    "print(transpose_matrix(a))"
   ]
  },
  {
   "cell_type": "markdown",
   "metadata": {},
   "source": [
    "## 3. Reshape Matrix\n",
    "#### Write a Python function that reshapes a given matrix into a specified shape.\n",
    "\n",
    "#### Example:\n",
    "        input: a = [[1,2,3,4],[5,6,7,8]], new_shape = (4, 2)\n",
    "        output: [[1, 2], [3, 4], [5, 6], [7, 8]]\n",
    "        reasoning: The given matrix is reshaped from 2x4 to 4x2."
   ]
  },
  {
   "cell_type": "code",
   "execution_count": 6,
   "metadata": {},
   "outputs": [
    {
     "name": "stdout",
     "output_type": "stream",
     "text": [
      "[[1, 2], [3, 4], [5, 6], [7, 8]]\n"
     ]
    }
   ],
   "source": [
    "import numpy as np\n",
    "\n",
    "def reshape_matrix(a: list[list[int | float]], new_shape: tuple[int, int]) -> list[list[int | float]]:\n",
    "    # Convert the input list to a NumPy array\n",
    "    np_array = np.array(a)\n",
    "    \n",
    "    # Reshape the array using NumPy's reshape method\n",
    "    reshaped_array = np_array.reshape(new_shape)\n",
    "\t#print(reshaped_array)\n",
    "    \n",
    "    # Convert the reshaped array back to a Python list\n",
    "    reshaped_matrix = reshaped_array.tolist()\n",
    "    \n",
    "    return reshaped_matrix\n",
    "\n",
    "a = [[1,2,3,4],[5,6,7,8]] \n",
    "new_shape = (4, 2)\n",
    "\n",
    "print(reshape_matrix(a, new_shape))\n"
   ]
  },
  {
   "cell_type": "markdown",
   "metadata": {},
   "source": [
    "## 4. Calculate Mean by Row or Column (easy)\n",
    "##### Write a Python function that calculates the mean of a matrix either by row or by column, based on a given mode. The function should take a matrix (list of lists) and a mode ('row' or 'column') as input and return a list of means according to the specified mode.\n",
    "\n",
    "##### Example1:\n",
    "        input: matrix = [[1, 2, 3], [4, 5, 6], [7, 8, 9]], mode = 'column'\n",
    "        output: [4.0, 5.0, 6.0]\n",
    "        reasoning: Calculating the mean of each column results in [(1+4+7)/3, (2+5+8)/3, (3+6+9)/3].\n",
    "        \n",
    "        Example 2:\n",
    "        input: matrix = [[1, 2, 3], [4, 5, 6], [7, 8, 9]], mode = 'row'\n",
    "        output: [2.0, 5.0, 8.0]\n",
    "        reasoning: Calculating the mean of each row results in [(1+2+3)/3, (4+5+6)/3, (7+8+9)/3]."
   ]
  },
  {
   "cell_type": "code",
   "execution_count": 7,
   "metadata": {},
   "outputs": [
    {
     "name": "stdout",
     "output_type": "stream",
     "text": [
      "[2.0, 5.0, 8.0]\n"
     ]
    }
   ],
   "source": [
    "def calculate_matrix_mean(matrix: list[list[float]], mode: str) -> list[float]:\n",
    "    means = []\n",
    "    \n",
    "    if mode == 'column':\n",
    "        for i in range(len(matrix[0])):  # Iterate over columns\n",
    "            column_sum = 0\n",
    "            for j in range(len(matrix)):\n",
    "                column_sum += matrix[j][i]\n",
    "            means.append(column_sum / len(matrix))\n",
    "    else:  # Assuming mode == 'row'\n",
    "        for row in matrix:\n",
    "            means.append(sum(row) / len(row))\n",
    "    \n",
    "    return means\n",
    "\n",
    "matrix = [[1, 2, 3], [4, 5, 6], [7, 8, 9]]\n",
    "mode = 'row'\n",
    "\n",
    "print(calculate_matrix_mean(matrix, mode))"
   ]
  },
  {
   "cell_type": "markdown",
   "metadata": {},
   "source": [
    "## 5. Scalar Multiplication of a Matrix\n",
    "##### Write a Python function that multiplies a matrix by a scalar and returns the result.\n",
    "\n",
    "##### Example:\n",
    "        input: matrix = [[1, 2], [3, 4]], scalar = 2\n",
    "        output: [[2, 4], [6, 8]]\n",
    "        reasoning: Each element of the matrix is multiplied by the scalar."
   ]
  },
  {
   "cell_type": "code",
   "execution_count": 9,
   "metadata": {},
   "outputs": [
    {
     "name": "stdout",
     "output_type": "stream",
     "text": [
      "[[2, 4], [6, 8]]\n"
     ]
    }
   ],
   "source": [
    "def scalar_multiply(matrix: list[list[int|float]], scalar: int|float) -> list[list[int|float]]:\n",
    "\tresult = [] # Final list after multiplication\n",
    "\tfor r in range(len(matrix)): # Accessing the rows\n",
    "\t\trow =  []\n",
    "\t\tfor c in range(len(matrix[r])): # Accessing the columns\n",
    "\t\t\trow.append(matrix[r][c]*scalar)\n",
    "\t\tresult.append(row)\n",
    "\treturn result\n",
    "\n",
    "matrix = [[1, 2], [3, 4]]\n",
    "scalar = 2\n",
    "\n",
    "print(scalar_multiply(matrix, scalar))"
   ]
  },
  {
   "cell_type": "markdown",
   "metadata": {},
   "source": []
  },
  {
   "cell_type": "markdown",
   "metadata": {},
   "source": [
    "## 10. Calculate Covariance Matrix\n",
    "##### Write a Python function that calculates the covariance matrix from a list of vectors. Assume that the input list represents a dataset where each vector is a feature, and vectors are of equal length.\n",
    "\n",
    "##### Example:\n",
    "        input: vectors = [[1, 2, 3], [4, 5, 6]]\n",
    "        output: [[1.0, 1.0], [1.0, 1.0]]\n",
    "        reasoning: The dataset has two features with three observations each. The covariance between each pair of features (including covariance with itself) is calculated and returned as a 2x2 matrix."
   ]
  },
  {
   "cell_type": "code",
   "execution_count": 8,
   "metadata": {},
   "outputs": [
    {
     "name": "stdout",
     "output_type": "stream",
     "text": [
      "[[1.0, 1.0], [1.0, 1.0]]\n"
     ]
    }
   ],
   "source": [
    "def calculate_covariance_matrix(vectors: list[list[float]]) -> list[list[float]]:\n",
    "    vector_length = len(vectors)\n",
    "    list_mean = []\n",
    "    list_l = []\n",
    "    \n",
    "    for i in range(vector_length):\n",
    "        list_mean.append(sum(vectors[i]) / len(vectors[i]))\n",
    "        \n",
    "        list_l_part = []\n",
    "        for j in range(len(vectors[i])):\n",
    "            list_l_part.append(vectors[i][j] - list_mean[i])\n",
    "        list_l.append(list_l_part)\n",
    "        \n",
    "    covariance_matrix = []\n",
    "    for r in range(vector_length):\n",
    "        \n",
    "        covariance_row = []\n",
    "        for c in range(vector_length):\n",
    "            covariance_part = 0\n",
    "            sums = 0\n",
    "            \n",
    "            for elmnt in range(len(vectors[r])):\n",
    "                prdt = list_l[r][elmnt] * list_l[c][elmnt]\n",
    "                sums += prdt\n",
    "            \n",
    "            covariance_part = sums / (len(vectors[r]) - 1)\n",
    "            \n",
    "            covariance_row.append(covariance_part)\n",
    "        \n",
    "        covariance_matrix.append(covariance_row)\n",
    "    \n",
    "    return covariance_matrix\n",
    "\n",
    "vectors = [[1, 2, 3], [4, 5, 6]]\n",
    "print(calculate_covariance_matrix(vectors))\n"
   ]
  }
 ],
 "metadata": {
  "kernelspec": {
   "display_name": "testing",
   "language": "python",
   "name": "python3"
  },
  "language_info": {
   "codemirror_mode": {
    "name": "ipython",
    "version": 3
   },
   "file_extension": ".py",
   "mimetype": "text/x-python",
   "name": "python",
   "nbconvert_exporter": "python",
   "pygments_lexer": "ipython3",
   "version": "3.12.3"
  }
 },
 "nbformat": 4,
 "nbformat_minor": 2
}
